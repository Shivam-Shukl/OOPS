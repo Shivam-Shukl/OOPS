{
 "cells": [
  {
   "cell_type": "markdown",
   "metadata": {},
   "source": [
    "Polymorphism#multiple form\n",
    "\n",
    "I used to know that polymorphism belongs to calling a diffrenet function by same name , this is possible because of passing diffrent kind of varibale that it is used for in other languages\n"
   ]
  },
  {
   "cell_type": "code",
   "execution_count": null,
   "metadata": {},
   "outputs": [],
   "source": [
    "def test(a,b):\n",
    "    return a+b"
   ]
  },
  {
   "cell_type": "code",
   "execution_count": null,
   "metadata": {},
   "outputs": [],
   "source": [
    "test(4,5)"
   ]
  },
  {
   "cell_type": "code",
   "execution_count": null,
   "metadata": {},
   "outputs": [],
   "source": [
    "test(\"shviam\",\" shukla\")"
   ]
  },
  {
   "cell_type": "code",
   "execution_count": null,
   "metadata": {},
   "outputs": [],
   "source": [
    "test([2,3,4,5,6],[4,5,6,7])"
   ]
  },
  {
   "cell_type": "code",
   "execution_count": null,
   "metadata": {},
   "outputs": [],
   "source": [
    "class data_scince():\n",
    "    def syllabus(self):\n",
    "        print(\"this is my method for data scince\")\n",
    "        "
   ]
  },
  {
   "cell_type": "code",
   "execution_count": null,
   "metadata": {},
   "outputs": [],
   "source": [
    "class web_dev:\n",
    "    def syllabus(self):\n",
    "        print(\"this is my method for web _dev\")"
   ]
  },
  {
   "cell_type": "code",
   "execution_count": null,
   "metadata": {},
   "outputs": [],
   "source": [
    "def class_parser(class_obj):\n",
    "    for i in class_obj:\n",
    "        i.syllabus()"
   ]
  },
  {
   "cell_type": "code",
   "execution_count": null,
   "metadata": {},
   "outputs": [],
   "source": [
    "obj_data_scince= data_scince()"
   ]
  },
  {
   "cell_type": "code",
   "execution_count": null,
   "metadata": {},
   "outputs": [],
   "source": [
    "obj_web_dev=web_dev()"
   ]
  },
  {
   "cell_type": "code",
   "execution_count": null,
   "metadata": {},
   "outputs": [],
   "source": [
    "class_obj=[obj_data_scince,obj_web_dev]\n"
   ]
  },
  {
   "cell_type": "code",
   "execution_count": null,
   "metadata": {},
   "outputs": [],
   "source": [
    "class_parser(class_obj)"
   ]
  },
  {
   "cell_type": "markdown",
   "metadata": {},
   "source": [
    "**can we achieve polymorphism in python in classes and object give examples**\n",
    "\n",
    "Yes, we can achieve polymorphism in Python using classes and objects. Polymorphism in object-oriented programming allows methods to do different things based on the object it is acting upon, even if they share the same name.\n",
    "\n",
    "Here are two primary ways to achieve polymorphism in Python:\n",
    "\n",
    "Method Overriding: This happens when a subclass provides a specific implementation of a method that is already defined in its superclass.\n",
    "Method Overloading: Although Python does not support method overloading in the traditional sense like other languages, you can achieve similar functionality using default arguments or variable-length arguments.\n",
    "\n",
    "**Example of Method Overriding**"
   ]
  },
  {
   "cell_type": "code",
   "execution_count": null,
   "metadata": {},
   "outputs": [],
   "source": [
    "class Animal:\n",
    "    def speak(self):\n",
    "        raise NotImplementedError(\"Subclass must implement abstract method\")\n",
    "\n",
    "class Dog(Animal):\n",
    "    def speak(self):\n",
    "        return \"Woof!\"\n",
    "\n",
    "class Cat(Animal):\n",
    "    def speak(self):\n",
    "        return \"Meow!\"\n",
    "\n",
    "# Polymorphism in action\n",
    "def make_animal_speak(animal):\n",
    "    print(animal.speak())\n",
    "\n",
    "dog = Dog()\n",
    "cat = Cat()\n",
    "\n",
    "make_animal_speak(dog)  # Outputs: Woof!\n",
    "make_animal_speak(cat)  # Outputs: Meow!\n"
   ]
  },
  {
   "cell_type": "markdown",
   "metadata": {},
   "source": [
    "In this example, both Dog and Cat classes override the speak method of the Animal class. The make_animal_speak function can accept any object of a subclass of Animal and call its speak method, demonstrating polymorphism.\n",
    "\n",
    "**Example of Method Overloading (Using Variable-Length Arguments)**\n",
    "\n",
    "Python does not support method overloading by default, but you can achieve similar results using variable-length arguments (*args) or keyword arguments (**kwargs)."
   ]
  },
  {
   "cell_type": "code",
   "execution_count": null,
   "metadata": {},
   "outputs": [],
   "source": [
    "class MathOperations:\n",
    "    def add(self, *args):\n",
    "        if len(args) == 2:\n",
    "            return args[0] + args[1]\n",
    "        elif len(args) == 3:\n",
    "            return args[0] + args[1] + args[2]\n",
    "        else:\n",
    "            return \"Invalid number of arguments\"\n",
    "\n",
    "math_ops = MathOperations()\n",
    "\n",
    "print(math_ops.add(1, 2))        # Outputs: 3\n",
    "print(math_ops.add(1, 2, 3))     # Outputs: 6\n",
    "print(math_ops.add(1))           # Outputs: Invalid number of arguments\n"
   ]
  },
  {
   "cell_type": "markdown",
   "metadata": {},
   "source": [
    "In this example, the add method can handle a different number of arguments, mimicking the behavior of method overloading.\n",
    "\n",
    "**Polymorphism with Functions and Objects**\n",
    "\n",
    "You can also demonstrate polymorphism by using different objects that implement the same method in their own way."
   ]
  },
  {
   "cell_type": "code",
   "execution_count": null,
   "metadata": {},
   "outputs": [],
   "source": [
    "class Shape:\n",
    "    def area(self):\n",
    "        raise NotImplementedError(\"Subclass must implement abstract method\")\n",
    "\n",
    "class Rectangle(Shape):\n",
    "    def __init__(self, width, height):\n",
    "        self.width = width\n",
    "        self.height = height\n",
    "\n",
    "    def area(self):\n",
    "        return self.width * self.height\n",
    "\n",
    "class Circle(Shape):\n",
    "    def __init__(self, radius):\n",
    "        self.radius = radius\n",
    "\n",
    "    def area(self):\n",
    "        return 3.14 * self.radius * self.radius\n",
    "\n",
    "# Polymorphism in action\n",
    "def print_area(shape):\n",
    "    print(shape.area())\n",
    "\n",
    "rectangle = Rectangle(4, 5)\n",
    "circle = Circle(3)\n",
    "\n",
    "print_area(rectangle)  # Outputs: 20\n",
    "print_area(circle)     # Outputs: 28.26\n"
   ]
  },
  {
   "cell_type": "markdown",
   "metadata": {},
   "source": [
    "In this example, both Rectangle and Circle classes implement the area method. The print_area function can take any object that is a subclass of Shape and call its area method, demonstrating polymorphism.\n",
    "\n",
    "These examples show how polymorphism can be achieved in Python using method overriding, handling variable-length arguments, and designing classes that follow a common interface"
   ]
  }
 ],
 "metadata": {
  "kernelspec": {
   "display_name": "Python 3",
   "language": "python",
   "name": "python3"
  },
  "language_info": {
   "codemirror_mode": {
    "name": "ipython",
    "version": 3
   },
   "file_extension": ".py",
   "mimetype": "text/x-python",
   "name": "python",
   "nbconvert_exporter": "python",
   "pygments_lexer": "ipython3",
   "version": "3.11.4"
  }
 },
 "nbformat": 4,
 "nbformat_minor": 2
}
